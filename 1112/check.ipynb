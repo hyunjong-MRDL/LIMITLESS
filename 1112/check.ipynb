{
 "cells": [
  {
   "cell_type": "code",
   "execution_count": 3,
   "metadata": {},
   "outputs": [],
   "source": [
    "import numpy as np\n",
    "\n",
    "a = np.load(f\"E:\\\\Liver\\\\1112\\\\all_train_label.npy\")"
   ]
  },
  {
   "cell_type": "code",
   "execution_count": 4,
   "metadata": {},
   "outputs": [
    {
     "data": {
      "text/plain": [
       "(407, 128, 128, 32)"
      ]
     },
     "execution_count": 4,
     "metadata": {},
     "output_type": "execute_result"
    }
   ],
   "source": [
    "a.shape"
   ]
  },
  {
   "cell_type": "code",
   "execution_count": 10,
   "metadata": {},
   "outputs": [],
   "source": [
    "import pandas as pd\n",
    "import os\n",
    "\n",
    "a = pd.read_excel(f\"E:\\\\Liver\\\\1112\\\\data\\\\excel\\\\check.xlsx\")\n",
    "\n",
    "subject = a['subject'].values\n",
    "date = a['date'].values\n",
    "\n",
    "path = f\"E:\\\\Liver\\\\Data\"\n",
    "\n",
    "for i in range(len(a)):\n",
    "    datapath = os.path.join(path, str(subject[i]), str(date[i]))\n",
    "    if os.path.exists(datapath) == False:\n",
    "        print(subject[i], date[i])"
   ]
  }
 ],
 "metadata": {
  "kernelspec": {
   "display_name": "tensorflow",
   "language": "python",
   "name": "python3"
  },
  "language_info": {
   "codemirror_mode": {
    "name": "ipython",
    "version": 3
   },
   "file_extension": ".py",
   "mimetype": "text/x-python",
   "name": "python",
   "nbconvert_exporter": "python",
   "pygments_lexer": "ipython3",
   "version": "3.8.20"
  }
 },
 "nbformat": 4,
 "nbformat_minor": 2
}
